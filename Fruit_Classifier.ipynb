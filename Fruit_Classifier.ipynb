{
  "nbformat": 4,
  "nbformat_minor": 0,
  "metadata": {
    "colab": {
      "provenance": [],
      "gpuType": "T4"
    },
    "kernelspec": {
      "name": "python3",
      "display_name": "Python 3"
    },
    "language_info": {
      "name": "python"
    },
    "accelerator": "GPU"
  },
  "cells": [
    {
      "cell_type": "markdown",
      "source": [
        "### My First Deeplearning Model"
      ],
      "metadata": {
        "id": "5ALZdKe7Eq1S"
      }
    },
    {
      "cell_type": "markdown",
      "source": [],
      "metadata": {
        "id": "7iimkISEFACn"
      }
    },
    {
      "cell_type": "code",
      "source": [
        "# Install fastai and fastbook\n",
        "!pip install -Uqq fastai fastbook\n",
        "\n",
        "# Import libraries\n",
        "import fastbook\n",
        "from fastai.vision.all import *\n",
        "from fastbook import *\n",
        "import os\n",
        "from google.colab import files\n",
        "import PIL\n",
        "\n",
        "fastbook.setup_book()\n"
      ],
      "metadata": {
        "collapsed": true,
        "id": "y0mrdQ7UNTN0"
      },
      "execution_count": 15,
      "outputs": []
    },
    {
      "cell_type": "code",
      "source": [
        "# Set Azure Bing Search Key securely\n",
        "os.environ['AZURE_SEARCH_KEY'] = 'your_actual_key_here'\n",
        "key = os.environ.get('AZURE_SEARCH_KEY')\n",
        "\n",
        "fruit_types = ['apple', 'pear', 'tomato', 'orange']\n",
        "path = Path('fruit')\n",
        "if not path.exists():\n",
        "    path.mkdir()\n",
        "    for o in fruit_types:\n",
        "        dest = (path/o)\n",
        "        dest.mkdir(exist_ok=True)\n",
        "        results = search_images_bing(key, f'{o} fruit', max_images=50)\n",
        "        download_images(dest, urls=results.attrgot('contentUrl'))\n",
        "    print(\"Download completed.\")\n",
        "fns = get_image_files(path)\n",
        "failed = verify_images(fns)\n",
        "failed.map(Path.unlink);"
      ],
      "metadata": {
        "id": "6qMLSGndNxiI"
      },
      "execution_count": null,
      "outputs": []
    },
    {
      "cell_type": "code",
      "source": [
        "fruits = DataBlock(\n",
        "    blocks=(ImageBlock, CategoryBlock),\n",
        "    get_items=get_image_files,\n",
        "    splitter=RandomSplitter(valid_pct=0.2, seed=42),\n",
        "    get_y=parent_label,\n",
        "    item_tfms=Resize(128))\n",
        "fruits = fruits.new(\n",
        "    item_tfms=RandomResizedCrop(224, min_scale=0.5),\n",
        "    batch_tfms=aug_transforms())\n",
        "dls = fruits.dataloaders(path)"
      ],
      "metadata": {
        "id": "mW28X0m5SF9T"
      },
      "execution_count": null,
      "outputs": []
    },
    {
      "cell_type": "code",
      "source": [
        "learn = vision_learner(dls, resnet34, metrics=error_rate)\n",
        "learn.fine_tune(4)"
      ],
      "metadata": {
        "collapsed": true,
        "id": "WegsGxNCTvEq"
      },
      "execution_count": null,
      "outputs": []
    },
    {
      "cell_type": "code",
      "source": [
        "interp = ClassificationInterpretation.from_learner(learn)\n",
        "interp.plot_confusion_matrix()"
      ],
      "metadata": {
        "id": "VA1sYo8qTv9X",
        "collapsed": true
      },
      "execution_count": null,
      "outputs": []
    },
    {
      "cell_type": "code",
      "source": [
        "learn.export()\n",
        "path = Path()\n",
        "path.ls(file_exts='.pkl')"
      ],
      "metadata": {
        "id": "zorvcozRTxy0"
      },
      "execution_count": null,
      "outputs": []
    },
    {
      "cell_type": "code",
      "source": [
        "learn_inf = load_learner(path/'export.pkl')\n",
        "learn_inf.dls.vocab\n"
      ],
      "metadata": {
        "id": "h623yMVKT9YB"
      },
      "execution_count": null,
      "outputs": []
    },
    {
      "cell_type": "code",
      "source": [
        "def classify_image(img_path):\n",
        "    img = PILImage.create(img_path)\n",
        "    pred, pred_idx, probs = learn_inf.predict(img)\n",
        "    return pred, probs[pred_idx].item()\n",
        "\n",
        "# Upload\n",
        "uploaded = files.upload()\n",
        "\n",
        "for file_name in uploaded.keys():\n",
        "    print(f'Classifying image: {file_name}')\n",
        "    pred, prob = classify_image(file_name)\n",
        "    print(f'Prediction: {pred}, Probability: {prob:.4f}')\n",
        "\n"
      ],
      "metadata": {
        "id": "W32ZYS2zafKp"
      },
      "execution_count": null,
      "outputs": []
    }
  ]
}